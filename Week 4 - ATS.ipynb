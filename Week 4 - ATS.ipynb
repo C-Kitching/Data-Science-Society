{
 "cells": [
  {
   "cell_type": "code",
   "execution_count": 22,
   "metadata": {},
   "outputs": [],
   "source": [
    "import yfinance as yf\n",
    "import numpy as np\n",
    "import matplotlib.pyplot as plt \n",
    "import pandas as pd\n",
    "import sklearn\n",
    "\n",
    "from sklearn.model_selection import train_test_split\n",
    "from sklearn.metrics import mean_absolute_error\n",
    "from sklearn.model_selection import train_test_split\n",
    "from sklearn.compose import ColumnTransformer\n",
    "from sklearn.pipeline import Pipeline\n",
    "from sklearn.impute import SimpleImputer\n",
    "from sklearn.preprocessing import OneHotEncoder\n",
    "from sklearn.preprocessing import OrdinalEncoder\n",
    "from sklearn.ensemble import RandomForestRegressor\n",
    "from sklearn.metrics import mean_absolute_error\n",
    "from sklearn.model_selection import cross_val_score\n",
    "from xgboost import XGBRegressor"
   ]
  },
  {
   "cell_type": "code",
   "execution_count": 49,
   "metadata": {},
   "outputs": [
    {
     "name": "stdout",
     "output_type": "stream",
     "text": [
      "[*********************100%***********************]  1 of 1 completed\n"
     ]
    }
   ],
   "source": [
    "df = yf.download(\"AMZN\", start = \"2022-01-01\")"
   ]
  },
  {
   "cell_type": "code",
   "execution_count": 50,
   "metadata": {},
   "outputs": [
    {
     "data": {
      "text/html": [
       "<div>\n",
       "<style scoped>\n",
       "    .dataframe tbody tr th:only-of-type {\n",
       "        vertical-align: middle;\n",
       "    }\n",
       "\n",
       "    .dataframe tbody tr th {\n",
       "        vertical-align: top;\n",
       "    }\n",
       "\n",
       "    .dataframe thead th {\n",
       "        text-align: right;\n",
       "    }\n",
       "</style>\n",
       "<table border=\"1\" class=\"dataframe\">\n",
       "  <thead>\n",
       "    <tr style=\"text-align: right;\">\n",
       "      <th></th>\n",
       "      <th>Open</th>\n",
       "      <th>High</th>\n",
       "      <th>Low</th>\n",
       "      <th>Close</th>\n",
       "      <th>Adj Close</th>\n",
       "      <th>Volume</th>\n",
       "    </tr>\n",
       "    <tr>\n",
       "      <th>Date</th>\n",
       "      <th></th>\n",
       "      <th></th>\n",
       "      <th></th>\n",
       "      <th></th>\n",
       "      <th></th>\n",
       "      <th></th>\n",
       "    </tr>\n",
       "  </thead>\n",
       "  <tbody>\n",
       "    <tr>\n",
       "      <th>2022-01-03 00:00:00-05:00</th>\n",
       "      <td>167.550003</td>\n",
       "      <td>170.703506</td>\n",
       "      <td>166.160507</td>\n",
       "      <td>170.404495</td>\n",
       "      <td>170.404495</td>\n",
       "      <td>63520000</td>\n",
       "    </tr>\n",
       "    <tr>\n",
       "      <th>2022-01-04 00:00:00-05:00</th>\n",
       "      <td>170.438004</td>\n",
       "      <td>171.399994</td>\n",
       "      <td>166.349503</td>\n",
       "      <td>167.522003</td>\n",
       "      <td>167.522003</td>\n",
       "      <td>70726000</td>\n",
       "    </tr>\n",
       "    <tr>\n",
       "      <th>2022-01-05 00:00:00-05:00</th>\n",
       "      <td>166.882996</td>\n",
       "      <td>167.126495</td>\n",
       "      <td>164.356995</td>\n",
       "      <td>164.356995</td>\n",
       "      <td>164.356995</td>\n",
       "      <td>64302000</td>\n",
       "    </tr>\n",
       "    <tr>\n",
       "      <th>2022-01-06 00:00:00-05:00</th>\n",
       "      <td>163.450500</td>\n",
       "      <td>164.800003</td>\n",
       "      <td>161.936996</td>\n",
       "      <td>163.253998</td>\n",
       "      <td>163.253998</td>\n",
       "      <td>51958000</td>\n",
       "    </tr>\n",
       "    <tr>\n",
       "      <th>2022-01-07 00:00:00-05:00</th>\n",
       "      <td>163.839005</td>\n",
       "      <td>165.243500</td>\n",
       "      <td>162.031006</td>\n",
       "      <td>162.554001</td>\n",
       "      <td>162.554001</td>\n",
       "      <td>46606000</td>\n",
       "    </tr>\n",
       "  </tbody>\n",
       "</table>\n",
       "</div>"
      ],
      "text/plain": [
       "                                 Open        High         Low       Close  \\\n",
       "Date                                                                        \n",
       "2022-01-03 00:00:00-05:00  167.550003  170.703506  166.160507  170.404495   \n",
       "2022-01-04 00:00:00-05:00  170.438004  171.399994  166.349503  167.522003   \n",
       "2022-01-05 00:00:00-05:00  166.882996  167.126495  164.356995  164.356995   \n",
       "2022-01-06 00:00:00-05:00  163.450500  164.800003  161.936996  163.253998   \n",
       "2022-01-07 00:00:00-05:00  163.839005  165.243500  162.031006  162.554001   \n",
       "\n",
       "                            Adj Close    Volume  \n",
       "Date                                             \n",
       "2022-01-03 00:00:00-05:00  170.404495  63520000  \n",
       "2022-01-04 00:00:00-05:00  167.522003  70726000  \n",
       "2022-01-05 00:00:00-05:00  164.356995  64302000  \n",
       "2022-01-06 00:00:00-05:00  163.253998  51958000  \n",
       "2022-01-07 00:00:00-05:00  162.554001  46606000  "
      ]
     },
     "execution_count": 50,
     "metadata": {},
     "output_type": "execute_result"
    }
   ],
   "source": [
    "df.head()"
   ]
  },
  {
   "cell_type": "code",
   "execution_count": 51,
   "metadata": {},
   "outputs": [
    {
     "data": {
      "text/html": [
       "<div>\n",
       "<style scoped>\n",
       "    .dataframe tbody tr th:only-of-type {\n",
       "        vertical-align: middle;\n",
       "    }\n",
       "\n",
       "    .dataframe tbody tr th {\n",
       "        vertical-align: top;\n",
       "    }\n",
       "\n",
       "    .dataframe thead th {\n",
       "        text-align: right;\n",
       "    }\n",
       "</style>\n",
       "<table border=\"1\" class=\"dataframe\">\n",
       "  <thead>\n",
       "    <tr style=\"text-align: right;\">\n",
       "      <th></th>\n",
       "      <th>Open</th>\n",
       "      <th>High</th>\n",
       "      <th>Low</th>\n",
       "      <th>Close</th>\n",
       "      <th>Adj Close</th>\n",
       "      <th>Volume</th>\n",
       "    </tr>\n",
       "  </thead>\n",
       "  <tbody>\n",
       "    <tr>\n",
       "      <th>count</th>\n",
       "      <td>202.000000</td>\n",
       "      <td>202.000000</td>\n",
       "      <td>202.000000</td>\n",
       "      <td>202.000000</td>\n",
       "      <td>202.000000</td>\n",
       "      <td>2.020000e+02</td>\n",
       "    </tr>\n",
       "    <tr>\n",
       "      <th>mean</th>\n",
       "      <td>134.006772</td>\n",
       "      <td>136.284812</td>\n",
       "      <td>131.533322</td>\n",
       "      <td>133.861404</td>\n",
       "      <td>133.861404</td>\n",
       "      <td>7.332460e+07</td>\n",
       "    </tr>\n",
       "    <tr>\n",
       "      <th>std</th>\n",
       "      <td>19.677611</td>\n",
       "      <td>19.479003</td>\n",
       "      <td>19.515205</td>\n",
       "      <td>19.483823</td>\n",
       "      <td>19.483823</td>\n",
       "      <td>3.328078e+07</td>\n",
       "    </tr>\n",
       "    <tr>\n",
       "      <th>min</th>\n",
       "      <td>102.750000</td>\n",
       "      <td>104.580002</td>\n",
       "      <td>101.260002</td>\n",
       "      <td>102.309998</td>\n",
       "      <td>102.309998</td>\n",
       "      <td>2.583911e+07</td>\n",
       "    </tr>\n",
       "    <tr>\n",
       "      <th>25%</th>\n",
       "      <td>115.025000</td>\n",
       "      <td>117.499998</td>\n",
       "      <td>113.167501</td>\n",
       "      <td>115.204626</td>\n",
       "      <td>115.204626</td>\n",
       "      <td>5.341440e+07</td>\n",
       "    </tr>\n",
       "    <tr>\n",
       "      <th>50%</th>\n",
       "      <td>133.755005</td>\n",
       "      <td>135.895004</td>\n",
       "      <td>132.255005</td>\n",
       "      <td>133.445000</td>\n",
       "      <td>133.445000</td>\n",
       "      <td>6.416500e+07</td>\n",
       "    </tr>\n",
       "    <tr>\n",
       "      <th>75%</th>\n",
       "      <td>151.725880</td>\n",
       "      <td>154.084126</td>\n",
       "      <td>149.125999</td>\n",
       "      <td>151.316875</td>\n",
       "      <td>151.316875</td>\n",
       "      <td>8.255338e+07</td>\n",
       "    </tr>\n",
       "    <tr>\n",
       "      <th>max</th>\n",
       "      <td>170.438004</td>\n",
       "      <td>171.399994</td>\n",
       "      <td>167.868500</td>\n",
       "      <td>170.404495</td>\n",
       "      <td>170.404495</td>\n",
       "      <td>2.726620e+08</td>\n",
       "    </tr>\n",
       "  </tbody>\n",
       "</table>\n",
       "</div>"
      ],
      "text/plain": [
       "             Open        High         Low       Close   Adj Close  \\\n",
       "count  202.000000  202.000000  202.000000  202.000000  202.000000   \n",
       "mean   134.006772  136.284812  131.533322  133.861404  133.861404   \n",
       "std     19.677611   19.479003   19.515205   19.483823   19.483823   \n",
       "min    102.750000  104.580002  101.260002  102.309998  102.309998   \n",
       "25%    115.025000  117.499998  113.167501  115.204626  115.204626   \n",
       "50%    133.755005  135.895004  132.255005  133.445000  133.445000   \n",
       "75%    151.725880  154.084126  149.125999  151.316875  151.316875   \n",
       "max    170.438004  171.399994  167.868500  170.404495  170.404495   \n",
       "\n",
       "             Volume  \n",
       "count  2.020000e+02  \n",
       "mean   7.332460e+07  \n",
       "std    3.328078e+07  \n",
       "min    2.583911e+07  \n",
       "25%    5.341440e+07  \n",
       "50%    6.416500e+07  \n",
       "75%    8.255338e+07  \n",
       "max    2.726620e+08  "
      ]
     },
     "execution_count": 51,
     "metadata": {},
     "output_type": "execute_result"
    }
   ],
   "source": [
    "df.describe()"
   ]
  },
  {
   "cell_type": "code",
   "execution_count": 52,
   "metadata": {},
   "outputs": [
    {
     "data": {
      "text/plain": [
       "Text(0, 0.5, 'Close price')"
      ]
     },
     "execution_count": 52,
     "metadata": {},
     "output_type": "execute_result"
    },
    {
     "data": {
      "image/png": "[encoded data removed]",
      "text/plain": [
       "<Figure size 1000x600 with 1 Axes>"
      ]
     },
     "metadata": {},
     "output_type": "display_data"
    }
   ],
   "source": [
    "fig = plt.figure()\n",
    "ax = fig.add_subplot(111)\n",
    "df[\"Close\"].plot(figsize = (10, 6))\n",
    "plt.title(\"Amazon stock price\")\n",
    "plt.ylabel(\"Close price\")"
   ]
  },
  {
   "cell_type": "code",
   "execution_count": 53,
   "metadata": {},
   "outputs": [],
   "source": [
    "# split into trainning and test data\n",
    "target = df[\"Adj Close\"]\n",
    "features = [\"Close\", \"Volume\"]\n",
    "X = df[features]\n",
    "train_X, test_X, train_y, test_y = train_test_split(X, target, random_state = 1)"
   ]
  },
  {
   "cell_type": "code",
   "execution_count": 54,
   "metadata": {},
   "outputs": [],
   "source": [
    "# process numerical data\n",
    "numerical_transformer = SimpleImputer(strategy = \"median\")\n",
    "\n",
    "# preprocessor\n",
    "preprocessor = ColumnTransformer(\n",
    "    transformers = [\n",
    "        (\"num\", numerical_transformer, features)\n",
    "    ]\n",
    ")\n",
    "\n",
    "# define model\n",
    "model = XGBRegressor()\n",
    "\n",
    "# bundle pipeline\n",
    "my_pipeline = Pipeline(steps = [(\"preprocessor\", preprocessor), \n",
    "                                (\"model\", model)\n",
    "                                ])"
   ]
  },
  {
   "cell_type": "code",
   "execution_count": 55,
   "metadata": {},
   "outputs": [
    {
     "data": {
      "text/html": [
       "<style>#sk-container-id-2 {color: black;background-color: white;}#sk-container-id-2 pre{padding: 0;}#sk-container-id-2 div.sk-toggleable {background-color: white;}#sk-container-id-2 label.sk-toggleable__label {cursor: pointer;display: block;width: 100%;margin-bottom: 0;padding: 0.3em;box-sizing: border-box;text-align: center;}#sk-container-id-2 label.sk-toggleable__label-arrow:before {content: \"▸\";float: left;margin-right: 0.25em;color: #696969;}#sk-container-id-2 label.sk-toggleable__label-arrow:hover:before {color: black;}#sk-container-id-2 div.sk-estimator:hover label.sk-toggleable__label-arrow:before {color: black;}#sk-container-id-2 div.sk-toggleable__content {max-height: 0;max-width: 0;overflow: hidden;text-align: left;background-color: #f0f8ff;}#sk-container-id-2 div.sk-toggleable__content pre {margin: 0.2em;color: black;border-radius: 0.25em;background-color: #f0f8ff;}#sk-container-id-2 input.sk-toggleable__control:checked~div.sk-toggleable__content {max-height: 200px;max-width: 100%;overflow: auto;}#sk-container-id-2 input.sk-toggleable__control:checked~label.sk-toggleable__label-arrow:before {content: \"▾\";}#sk-container-id-2 div.sk-estimator input.sk-toggleable__control:checked~label.sk-toggleable__label {background-color: #d4ebff;}#sk-container-id-2 div.sk-label input.sk-toggleable__control:checked~label.sk-toggleable__label {background-color: #d4ebff;}#sk-container-id-2 input.sk-hidden--visually {border: 0;clip: rect(1px 1px 1px 1px);clip: rect(1px, 1px, 1px, 1px);height: 1px;margin: -1px;overflow: hidden;padding: 0;position: absolute;width: 1px;}#sk-container-id-2 div.sk-estimator {font-family: monospace;background-color: #f0f8ff;border: 1px dotted black;border-radius: 0.25em;box-sizing: border-box;margin-bottom: 0.5em;}#sk-container-id-2 div.sk-estimator:hover {background-color: #d4ebff;}#sk-container-id-2 div.sk-parallel-item::after {content: \"\";width: 100%;border-bottom: 1px solid gray;flex-grow: 1;}#sk-container-id-2 div.sk-label:hover label.sk-toggleable__label {background-color: #d4ebff;}#sk-container-id-2 div.sk-serial::before {content: \"\";position: absolute;border-left: 1px solid gray;box-sizing: border-box;top: 0;bottom: 0;left: 50%;z-index: 0;}#sk-container-id-2 div.sk-serial {display: flex;flex-direction: column;align-items: center;background-color: white;padding-right: 0.2em;padding-left: 0.2em;position: relative;}#sk-container-id-2 div.sk-item {position: relative;z-index: 1;}#sk-container-id-2 div.sk-parallel {display: flex;align-items: stretch;justify-content: center;background-color: white;position: relative;}#sk-container-id-2 div.sk-item::before, #sk-container-id-2 div.sk-parallel-item::before {content: \"\";position: absolute;border-left: 1px solid gray;box-sizing: border-box;top: 0;bottom: 0;left: 50%;z-index: -1;}#sk-container-id-2 div.sk-parallel-item {display: flex;flex-direction: column;z-index: 1;position: relative;background-color: white;}#sk-container-id-2 div.sk-parallel-item:first-child::after {align-self: flex-end;width: 50%;}#sk-container-id-2 div.sk-parallel-item:last-child::after {align-self: flex-start;width: 50%;}#sk-container-id-2 div.sk-parallel-item:only-child::after {width: 0;}#sk-container-id-2 div.sk-dashed-wrapped {border: 1px dashed gray;margin: 0 0.4em 0.5em 0.4em;box-sizing: border-box;padding-bottom: 0.4em;background-color: white;}#sk-container-id-2 div.sk-label label {font-family: monospace;font-weight: bold;display: inline-block;line-height: 1.2em;}#sk-container-id-2 div.sk-label-container {text-align: center;}#sk-container-id-2 div.sk-container {/* jupyter's `normalize.less` sets `[hidden] { display: none; }` but bootstrap.min.css set `[hidden] { display: none !important; }` so we also need the `!important` here to be able to override the default hidden behavior on the sphinx rendered scikit-learn.org. See: https://github.com/scikit-learn/scikit-learn/issues/21755 */display: inline-block !important;position: relative;}#sk-container-id-2 div.sk-text-repr-fallback {display: none;}</style><div id=\"sk-container-id-2\" class=\"sk-top-container\"><div class=\"sk-text-repr-fallback\"><pre>Pipeline(steps=[(&#x27;preprocessor&#x27;,\n",
       "                 ColumnTransformer(transformers=[(&#x27;num&#x27;,\n",
       "                                                  SimpleImputer(strategy=&#x27;median&#x27;),\n",
       "                                                  [&#x27;Close&#x27;, &#x27;Volume&#x27;])])),\n",
       "                (&#x27;model&#x27;,\n",
       "                 XGBRegressor(base_score=0.5, booster=&#x27;gbtree&#x27;, callbacks=None,\n",
       "                              colsample_bylevel=1, colsample_bynode=1,\n",
       "                              colsample_bytree=1, early_stopping_rounds=None,\n",
       "                              enable_categorical=False, eval_metric=None,\n",
       "                              gamma=0, gpu_id=-1, grow_policy=&#x27;depthwise&#x27;,\n",
       "                              importance_type=None, interaction_constraints=&#x27;&#x27;,\n",
       "                              learning_rate=0.300000012, max_bin=256,\n",
       "                              max_cat_to_onehot=4, max_delta_step=0,\n",
       "                              max_depth=6, max_leaves=0, min_child_weight=1,\n",
       "                              missing=nan, monotone_constraints=&#x27;()&#x27;,\n",
       "                              n_estimators=100, n_jobs=0, num_parallel_tree=1,\n",
       "                              predictor=&#x27;auto&#x27;, random_state=0, reg_alpha=0,\n",
       "                              reg_lambda=1, ...))])</pre><b>In a Jupyter environment, please rerun this cell to show the HTML representation or trust the notebook. <br />On GitHub, the HTML representation is unable to render, please try loading this page with nbviewer.org.</b></div><div class=\"sk-container\" hidden><div class=\"sk-item sk-dashed-wrapped\"><div class=\"sk-label-container\"><div class=\"sk-label sk-toggleable\"><input class=\"sk-toggleable__control sk-hidden--visually\" id=\"sk-estimator-id-6\" type=\"checkbox\" ><label for=\"sk-estimator-id-6\" class=\"sk-toggleable__label sk-toggleable__label-arrow\">Pipeline</label><div class=\"sk-toggleable__content\"><pre>Pipeline(steps=[(&#x27;preprocessor&#x27;,\n",
       "                 ColumnTransformer(transformers=[(&#x27;num&#x27;,\n",
       "                                                  SimpleImputer(strategy=&#x27;median&#x27;),\n",
       "                                                  [&#x27;Close&#x27;, &#x27;Volume&#x27;])])),\n",
       "                (&#x27;model&#x27;,\n",
       "                 XGBRegressor(base_score=0.5, booster=&#x27;gbtree&#x27;, callbacks=None,\n",
       "                              colsample_bylevel=1, colsample_bynode=1,\n",
       "                              colsample_bytree=1, early_stopping_rounds=None,\n",
       "                              enable_categorical=False, eval_metric=None,\n",
       "                              gamma=0, gpu_id=-1, grow_policy=&#x27;depthwise&#x27;,\n",
       "                              importance_type=None, interaction_constraints=&#x27;&#x27;,\n",
       "                              learning_rate=0.300000012, max_bin=256,\n",
       "                              max_cat_to_onehot=4, max_delta_step=0,\n",
       "                              max_depth=6, max_leaves=0, min_child_weight=1,\n",
       "                              missing=nan, monotone_constraints=&#x27;()&#x27;,\n",
       "                              n_estimators=100, n_jobs=0, num_parallel_tree=1,\n",
       "                              predictor=&#x27;auto&#x27;, random_state=0, reg_alpha=0,\n",
       "                              reg_lambda=1, ...))])</pre></div></div></div><div class=\"sk-serial\"><div class=\"sk-item sk-dashed-wrapped\"><div class=\"sk-label-container\"><div class=\"sk-label sk-toggleable\"><input class=\"sk-toggleable__control sk-hidden--visually\" id=\"sk-estimator-id-7\" type=\"checkbox\" ><label for=\"sk-estimator-id-7\" class=\"sk-toggleable__label sk-toggleable__label-arrow\">preprocessor: ColumnTransformer</label><div class=\"sk-toggleable__content\"><pre>ColumnTransformer(transformers=[(&#x27;num&#x27;, SimpleImputer(strategy=&#x27;median&#x27;),\n",
       "                                 [&#x27;Close&#x27;, &#x27;Volume&#x27;])])</pre></div></div></div><div class=\"sk-parallel\"><div class=\"sk-parallel-item\"><div class=\"sk-item\"><div class=\"sk-label-container\"><div class=\"sk-label sk-toggleable\"><input class=\"sk-toggleable__control sk-hidden--visually\" id=\"sk-estimator-id-8\" type=\"checkbox\" ><label for=\"sk-estimator-id-8\" class=\"sk-toggleable__label sk-toggleable__label-arrow\">num</label><div class=\"sk-toggleable__content\"><pre>[&#x27;Close&#x27;, &#x27;Volume&#x27;]</pre></div></div></div><div class=\"sk-serial\"><div class=\"sk-item\"><div class=\"sk-estimator sk-toggleable\"><input class=\"sk-toggleable__control sk-hidden--visually\" id=\"sk-estimator-id-9\" type=\"checkbox\" ><label for=\"sk-estimator-id-9\" class=\"sk-toggleable__label sk-toggleable__label-arrow\">SimpleImputer</label><div class=\"sk-toggleable__content\"><pre>SimpleImputer(strategy=&#x27;median&#x27;)</pre></div></div></div></div></div></div></div></div><div class=\"sk-item\"><div class=\"sk-estimator sk-toggleable\"><input class=\"sk-toggleable__control sk-hidden--visually\" id=\"sk-estimator-id-10\" type=\"checkbox\" ><label for=\"sk-estimator-id-10\" class=\"sk-toggleable__label sk-toggleable__label-arrow\">XGBRegressor</label><div class=\"sk-toggleable__content\"><pre>XGBRegressor(base_score=0.5, booster=&#x27;gbtree&#x27;, callbacks=None,\n",
       "             colsample_bylevel=1, colsample_bynode=1, colsample_bytree=1,\n",
       "             early_stopping_rounds=None, enable_categorical=False,\n",
       "             eval_metric=None, gamma=0, gpu_id=-1, grow_policy=&#x27;depthwise&#x27;,\n",
       "             importance_type=None, interaction_constraints=&#x27;&#x27;,\n",
       "             learning_rate=0.300000012, max_bin=256, max_cat_to_onehot=4,\n",
       "             max_delta_step=0, max_depth=6, max_leaves=0, min_child_weight=1,\n",
       "             missing=nan, monotone_constraints=&#x27;()&#x27;, n_estimators=100, n_jobs=0,\n",
       "             num_parallel_tree=1, predictor=&#x27;auto&#x27;, random_state=0, reg_alpha=0,\n",
       "             reg_lambda=1, ...)</pre></div></div></div></div></div></div></div>"
      ],
      "text/plain": [
       "Pipeline(steps=[('preprocessor',\n",
       "                 ColumnTransformer(transformers=[('num',\n",
       "                                                  SimpleImputer(strategy='median'),\n",
       "                                                  ['Close', 'Volume'])])),\n",
       "                ('model',\n",
       "                 XGBRegressor(base_score=0.5, booster='gbtree', callbacks=None,\n",
       "                              colsample_bylevel=1, colsample_bynode=1,\n",
       "                              colsample_bytree=1, early_stopping_rounds=None,\n",
       "                              enable_categorical=False, eval_metric=None,\n",
       "                              gamma=0, gpu_id=-1, grow_policy='depthwise',\n",
       "                              importance_type=None, interaction_constraints='',\n",
       "                              learning_rate=0.300000012, max_bin=256,\n",
       "                              max_cat_to_onehot=4, max_delta_step=0,\n",
       "                              max_depth=6, max_leaves=0, min_child_weight=1,\n",
       "                              missing=nan, monotone_constraints='()',\n",
       "                              n_estimators=100, n_jobs=0, num_parallel_tree=1,\n",
       "                              predictor='auto', random_state=0, reg_alpha=0,\n",
       "                              reg_lambda=1, ...))])"
      ]
     },
     "execution_count": 55,
     "metadata": {},
     "output_type": "execute_result"
    }
   ],
   "source": [
    "# fit model\n",
    "my_pipeline.fit(train_X, train_y)"
   ]
  },
  {
   "cell_type": "code",
   "execution_count": 56,
   "metadata": {},
   "outputs": [],
   "source": [
    "# make predictions\n",
    "y_preds = my_pipeline.predict(test_X)"
   ]
  },
  {
   "cell_type": "code",
   "execution_count": 65,
   "metadata": {},
   "outputs": [
    {
     "name": "stdout",
     "output_type": "stream",
     "text": [
      "Date\n",
      "2022-10-13 00:00:00-04:00    0.333144\n",
      "2022-05-19 00:00:00-04:00    0.047502\n",
      "2022-09-12 00:00:00-04:00    3.567312\n",
      "2022-06-30 00:00:00-04:00    0.065698\n",
      "2022-02-28 00:00:00-05:00    0.307018\n",
      "2022-05-18 00:00:00-04:00    0.075282\n",
      "2022-04-26 00:00:00-04:00    0.018092\n",
      "2022-03-28 00:00:00-04:00    0.380525\n",
      "2022-02-14 00:00:00-05:00    0.012746\n",
      "2022-01-07 00:00:00-05:00    0.086207\n",
      "2022-03-11 00:00:00-05:00    0.050189\n",
      "2022-09-07 00:00:00-04:00    0.095315\n",
      "2022-02-23 00:00:00-05:00    0.112373\n",
      "2022-05-23 00:00:00-04:00    0.065059\n",
      "2022-01-19 00:00:00-05:00    3.923042\n",
      "2022-02-22 00:00:00-05:00    0.952095\n",
      "2022-06-21 00:00:00-04:00    0.152183\n",
      "2022-01-28 00:00:00-05:00    0.196703\n",
      "2022-09-23 00:00:00-04:00    0.006094\n",
      "2022-09-30 00:00:00-04:00    0.058869\n",
      "2022-06-16 00:00:00-04:00    0.057128\n",
      "2022-06-29 00:00:00-04:00    0.028827\n",
      "2022-06-23 00:00:00-04:00    1.167822\n",
      "2022-01-26 00:00:00-05:00    0.010849\n",
      "2022-10-04 00:00:00-04:00    0.018696\n",
      "2022-02-11 00:00:00-05:00    0.303360\n",
      "2022-07-20 00:00:00-04:00    0.224863\n",
      "2022-09-01 00:00:00-04:00    0.438227\n",
      "2022-03-24 00:00:00-04:00    0.009671\n",
      "2022-03-02 00:00:00-05:00    0.142497\n",
      "2022-02-16 00:00:00-05:00    0.000002\n",
      "2022-07-07 00:00:00-04:00    0.050275\n",
      "2022-02-10 00:00:00-05:00    0.000663\n",
      "2022-08-05 00:00:00-04:00    1.397790\n",
      "2022-05-12 00:00:00-04:00    0.038371\n",
      "2022-04-08 00:00:00-04:00    0.642865\n",
      "2022-05-04 00:00:00-04:00    0.002253\n",
      "2022-05-25 00:00:00-04:00    0.288110\n",
      "2022-09-28 00:00:00-04:00    0.038305\n",
      "2022-05-24 00:00:00-04:00    0.358827\n",
      "2022-06-03 00:00:00-04:00    0.116138\n",
      "2022-03-08 00:00:00-05:00    0.112066\n",
      "2022-10-11 00:00:00-04:00    2.920002\n",
      "2022-09-13 00:00:00-04:00    0.255400\n",
      "2022-03-29 00:00:00-04:00    0.647301\n",
      "2022-01-24 00:00:00-05:00    0.311209\n",
      "2022-03-17 00:00:00-04:00    0.358124\n",
      "2022-01-31 00:00:00-05:00    3.495227\n",
      "2022-06-10 00:00:00-04:00    0.013493\n",
      "2022-03-01 00:00:00-05:00    1.755738\n",
      "2022-08-31 00:00:00-04:00    0.021648\n",
      "Name: Adj Close, dtype: float64\n"
     ]
    }
   ],
   "source": [
    "print((y_preds - test_y)**2)"
   ]
  },
  {
   "cell_type": "code",
   "execution_count": null,
   "metadata": {},
   "outputs": [],
   "source": []
  }
 ],
 "metadata": {
  "kernelspec": {
   "display_name": "Python 3.10.7 ('.venv': venv)",
   "language": "python",
   "name": "python3"
  },
  "language_info": {
   "codemirror_mode": {
    "name": "ipython",
    "version": 3
   },
   "file_extension": ".py",
   "mimetype": "text/x-python",
   "name": "python",
   "nbconvert_exporter": "python",
   "pygments_lexer": "ipython3",
   "version": "3.10.7"
  },
  "orig_nbformat": 4,
  "vscode": {
   "interpreter": {
    "hash": "854e690f5b0af1edb6786fc70e612cf493fb5e576df32e13b64efa67351a95b9"
   }
  }
 },
 "nbformat": 4,
 "nbformat_minor": 2
}
