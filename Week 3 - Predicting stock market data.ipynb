{
  "cells": [
    {
      "cell_type": "markdown",
      "metadata": {
        "id": "JjpvoZDpooYl"
      },
      "source": [
        "# Intro to Stock Market Analysis\n",
        "\n",
        "In this session we will utitlize `Linear Regression` to predict stock market data.\n",
        "\n",
        "First we would want to complete the colab environment configuration:"
      ]
    },
    {
      "cell_type": "code",
      "execution_count": 1,
      "metadata": {
        "id": "nhvbhU0XonZq"
      },
      "outputs": [],
      "source": [
        "# Import essential Libraries\n",
        "# You don't really need to know what these libraries do\n",
        "\n",
        "import pandas as pd\n",
        "import datetime\n",
        "import matplotlib.pyplot as plt\n",
        "from pylab import rcParams\n",
        "import numpy as np\n",
        "import seaborn as sns\n",
        "import os\n",
        "import pandas_datareader.data as web\n",
        "import sklearn\n",
        "from sklearn.ensemble import RandomForestRegressor\n",
        "from sklearn.model_selection import cross_val_score, train_test_split, GridSearchCV\n",
        "from sklearn.feature_selection import RFECV, SelectFromModel, SelectKBest\n",
        "from sklearn.preprocessing import StandardScaler\n",
        "from sklearn import metrics\n",
        "%matplotlib inline"
      ]
    },
    {
      "cell_type": "markdown",
      "metadata": {
        "id": "ZcjbWvA-qIPm"
      },
      "source": [
        "Then we would like to fetch **a fraction of** the `Apple Stock Market Data` from the web using `yahoo` API.\n",
        "\n",
        "Remember, we need to specify:\n",
        "\n",
        "1. Begin time of the fraction\n",
        "2. End time of the fraction\n",
        "3. Which company's data we want to get\n",
        "4. Which API we want to use"
      ]
    },
    {
      "cell_type": "code",
      "execution_count": 2,
      "metadata": {
        "id": "j44IECK5pK60"
      },
      "outputs": [],
      "source": [
        "# Specify the Start and End time\n",
        "start_time = datetime.datetime(2018,1,1)\n",
        "end_time = datetime.datetime(2022,1,1) \n",
        "\n",
        "# Specify Company name: Apple (AAPL), API: Yahoo (yahoo)\n",
        "stock_market_data = web.DataReader(\"AAPL\", 'yahoo', start_time, end_time)"
      ]
    },
    {
      "cell_type": "markdown",
      "metadata": {
        "id": "08lmSn32q5RS"
      },
      "source": [
        "Now we have our data. What about taka a look at it to see what it contains?\n",
        "\n",
        "Thankfully `Pandas` has provided useful methods for us to peek at the data:\n",
        "\n",
        "1. using `.head(5)`, we can take a look at **first 5 rows of our data**.\n",
        "2. using `.tail(5)`, we can take a look at **last 5 rows of our data**."
      ]
    },
    {
      "cell_type": "code",
      "execution_count": 3,
      "metadata": {
        "colab": {
          "base_uri": "https://localhost:8080/",
          "height": 282
        },
        "id": "bNK1ErOdqEiS",
        "outputId": "a93236d9-79f9-4199-dcf7-60d1fe8375ff"
      },
      "outputs": [
        {
          "data": {
            "text/html": [
              "<div>\n",
              "<style scoped>\n",
              "    .dataframe tbody tr th:only-of-type {\n",
              "        vertical-align: middle;\n",
              "    }\n",
              "\n",
              "    .dataframe tbody tr th {\n",
              "        vertical-align: top;\n",
              "    }\n",
              "\n",
              "    .dataframe thead th {\n",
              "        text-align: right;\n",
              "    }\n",
              "</style>\n",
              "<table border=\"1\" class=\"dataframe\">\n",
              "  <thead>\n",
              "    <tr style=\"text-align: right;\">\n",
              "      <th></th>\n",
              "      <th>High</th>\n",
              "      <th>Low</th>\n",
              "      <th>Open</th>\n",
              "      <th>Close</th>\n",
              "      <th>Volume</th>\n",
              "      <th>Adj Close</th>\n",
              "    </tr>\n",
              "    <tr>\n",
              "      <th>Date</th>\n",
              "      <th></th>\n",
              "      <th></th>\n",
              "      <th></th>\n",
              "      <th></th>\n",
              "      <th></th>\n",
              "      <th></th>\n",
              "    </tr>\n",
              "  </thead>\n",
              "  <tbody>\n",
              "    <tr>\n",
              "      <th>2018-01-02</th>\n",
              "      <td>43.075001</td>\n",
              "      <td>42.314999</td>\n",
              "      <td>42.540001</td>\n",
              "      <td>43.064999</td>\n",
              "      <td>102223600.0</td>\n",
              "      <td>41.018421</td>\n",
              "    </tr>\n",
              "    <tr>\n",
              "      <th>2018-01-03</th>\n",
              "      <td>43.637501</td>\n",
              "      <td>42.990002</td>\n",
              "      <td>43.132500</td>\n",
              "      <td>43.057499</td>\n",
              "      <td>118071600.0</td>\n",
              "      <td>41.011280</td>\n",
              "    </tr>\n",
              "    <tr>\n",
              "      <th>2018-01-04</th>\n",
              "      <td>43.367500</td>\n",
              "      <td>43.020000</td>\n",
              "      <td>43.134998</td>\n",
              "      <td>43.257500</td>\n",
              "      <td>89738400.0</td>\n",
              "      <td>41.201782</td>\n",
              "    </tr>\n",
              "    <tr>\n",
              "      <th>2018-01-05</th>\n",
              "      <td>43.842499</td>\n",
              "      <td>43.262501</td>\n",
              "      <td>43.360001</td>\n",
              "      <td>43.750000</td>\n",
              "      <td>94640000.0</td>\n",
              "      <td>41.670879</td>\n",
              "    </tr>\n",
              "    <tr>\n",
              "      <th>2018-01-08</th>\n",
              "      <td>43.902500</td>\n",
              "      <td>43.482498</td>\n",
              "      <td>43.587502</td>\n",
              "      <td>43.587502</td>\n",
              "      <td>82271200.0</td>\n",
              "      <td>41.516109</td>\n",
              "    </tr>\n",
              "  </tbody>\n",
              "</table>\n",
              "</div>"
            ],
            "text/plain": [
              "                 High        Low       Open      Close       Volume  Adj Close\n",
              "Date                                                                          \n",
              "2018-01-02  43.075001  42.314999  42.540001  43.064999  102223600.0  41.018421\n",
              "2018-01-03  43.637501  42.990002  43.132500  43.057499  118071600.0  41.011280\n",
              "2018-01-04  43.367500  43.020000  43.134998  43.257500   89738400.0  41.201782\n",
              "2018-01-05  43.842499  43.262501  43.360001  43.750000   94640000.0  41.670879\n",
              "2018-01-08  43.902500  43.482498  43.587502  43.587502   82271200.0  41.516109"
            ]
          },
          "execution_count": 3,
          "metadata": {},
          "output_type": "execute_result"
        }
      ],
      "source": [
        "# Take a look at the first 5 rows\n",
        "stock_market_data.head(5)"
      ]
    },
    {
      "cell_type": "code",
      "execution_count": 4,
      "metadata": {
        "colab": {
          "base_uri": "https://localhost:8080/",
          "height": 282
        },
        "id": "VQP7yrvVrZm7",
        "outputId": "f2726c66-cc85-4a44-b336-b96b02edc0f2"
      },
      "outputs": [
        {
          "data": {
            "text/html": [
              "<div>\n",
              "<style scoped>\n",
              "    .dataframe tbody tr th:only-of-type {\n",
              "        vertical-align: middle;\n",
              "    }\n",
              "\n",
              "    .dataframe tbody tr th {\n",
              "        vertical-align: top;\n",
              "    }\n",
              "\n",
              "    .dataframe thead th {\n",
              "        text-align: right;\n",
              "    }\n",
              "</style>\n",
              "<table border=\"1\" class=\"dataframe\">\n",
              "  <thead>\n",
              "    <tr style=\"text-align: right;\">\n",
              "      <th></th>\n",
              "      <th>High</th>\n",
              "      <th>Low</th>\n",
              "      <th>Open</th>\n",
              "      <th>Close</th>\n",
              "      <th>Volume</th>\n",
              "      <th>Adj Close</th>\n",
              "    </tr>\n",
              "    <tr>\n",
              "      <th>Date</th>\n",
              "      <th></th>\n",
              "      <th></th>\n",
              "      <th></th>\n",
              "      <th></th>\n",
              "      <th></th>\n",
              "      <th></th>\n",
              "    </tr>\n",
              "  </thead>\n",
              "  <tbody>\n",
              "    <tr>\n",
              "      <th>2021-12-27</th>\n",
              "      <td>180.419998</td>\n",
              "      <td>177.070007</td>\n",
              "      <td>177.089996</td>\n",
              "      <td>180.330002</td>\n",
              "      <td>74919600.0</td>\n",
              "      <td>179.586868</td>\n",
              "    </tr>\n",
              "    <tr>\n",
              "      <th>2021-12-28</th>\n",
              "      <td>181.330002</td>\n",
              "      <td>178.529999</td>\n",
              "      <td>180.160004</td>\n",
              "      <td>179.289993</td>\n",
              "      <td>79144300.0</td>\n",
              "      <td>178.551132</td>\n",
              "    </tr>\n",
              "    <tr>\n",
              "      <th>2021-12-29</th>\n",
              "      <td>180.630005</td>\n",
              "      <td>178.139999</td>\n",
              "      <td>179.330002</td>\n",
              "      <td>179.380005</td>\n",
              "      <td>62348900.0</td>\n",
              "      <td>178.640778</td>\n",
              "    </tr>\n",
              "    <tr>\n",
              "      <th>2021-12-30</th>\n",
              "      <td>180.570007</td>\n",
              "      <td>178.089996</td>\n",
              "      <td>179.470001</td>\n",
              "      <td>178.199997</td>\n",
              "      <td>59773000.0</td>\n",
              "      <td>177.465637</td>\n",
              "    </tr>\n",
              "    <tr>\n",
              "      <th>2021-12-31</th>\n",
              "      <td>179.229996</td>\n",
              "      <td>177.259995</td>\n",
              "      <td>178.089996</td>\n",
              "      <td>177.570007</td>\n",
              "      <td>64062300.0</td>\n",
              "      <td>176.838242</td>\n",
              "    </tr>\n",
              "  </tbody>\n",
              "</table>\n",
              "</div>"
            ],
            "text/plain": [
              "                  High         Low        Open       Close      Volume  \\\n",
              "Date                                                                     \n",
              "2021-12-27  180.419998  177.070007  177.089996  180.330002  74919600.0   \n",
              "2021-12-28  181.330002  178.529999  180.160004  179.289993  79144300.0   \n",
              "2021-12-29  180.630005  178.139999  179.330002  179.380005  62348900.0   \n",
              "2021-12-30  180.570007  178.089996  179.470001  178.199997  59773000.0   \n",
              "2021-12-31  179.229996  177.259995  178.089996  177.570007  64062300.0   \n",
              "\n",
              "             Adj Close  \n",
              "Date                    \n",
              "2021-12-27  179.586868  \n",
              "2021-12-28  178.551132  \n",
              "2021-12-29  178.640778  \n",
              "2021-12-30  177.465637  \n",
              "2021-12-31  176.838242  "
            ]
          },
          "execution_count": 4,
          "metadata": {},
          "output_type": "execute_result"
        }
      ],
      "source": [
        "# Take a look at the last 5 rows\n",
        "stock_market_data.tail(5)"
      ]
    },
    {
      "cell_type": "code",
      "execution_count": 5,
      "metadata": {},
      "outputs": [
        {
          "data": {
            "text/html": [
              "<div>\n",
              "<style scoped>\n",
              "    .dataframe tbody tr th:only-of-type {\n",
              "        vertical-align: middle;\n",
              "    }\n",
              "\n",
              "    .dataframe tbody tr th {\n",
              "        vertical-align: top;\n",
              "    }\n",
              "\n",
              "    .dataframe thead th {\n",
              "        text-align: right;\n",
              "    }\n",
              "</style>\n",
              "<table border=\"1\" class=\"dataframe\">\n",
              "  <thead>\n",
              "    <tr style=\"text-align: right;\">\n",
              "      <th></th>\n",
              "      <th>High</th>\n",
              "      <th>Low</th>\n",
              "      <th>Open</th>\n",
              "      <th>Close</th>\n",
              "      <th>Volume</th>\n",
              "      <th>Adj Close</th>\n",
              "    </tr>\n",
              "  </thead>\n",
              "  <tbody>\n",
              "    <tr>\n",
              "      <th>count</th>\n",
              "      <td>1008.000000</td>\n",
              "      <td>1008.000000</td>\n",
              "      <td>1008.000000</td>\n",
              "      <td>1008.000000</td>\n",
              "      <td>1.008000e+03</td>\n",
              "      <td>1008.000000</td>\n",
              "    </tr>\n",
              "    <tr>\n",
              "      <th>mean</th>\n",
              "      <td>84.852535</td>\n",
              "      <td>82.984410</td>\n",
              "      <td>83.891275</td>\n",
              "      <td>83.963648</td>\n",
              "      <td>1.240944e+08</td>\n",
              "      <td>82.617985</td>\n",
              "    </tr>\n",
              "    <tr>\n",
              "      <th>std</th>\n",
              "      <td>40.860557</td>\n",
              "      <td>39.942002</td>\n",
              "      <td>40.403601</td>\n",
              "      <td>40.428788</td>\n",
              "      <td>5.817994e+07</td>\n",
              "      <td>40.675177</td>\n",
              "    </tr>\n",
              "    <tr>\n",
              "      <th>min</th>\n",
              "      <td>36.430000</td>\n",
              "      <td>35.500000</td>\n",
              "      <td>35.994999</td>\n",
              "      <td>35.547501</td>\n",
              "      <td>4.100000e+07</td>\n",
              "      <td>34.366505</td>\n",
              "    </tr>\n",
              "    <tr>\n",
              "      <th>25%</th>\n",
              "      <td>48.598751</td>\n",
              "      <td>47.781249</td>\n",
              "      <td>48.072499</td>\n",
              "      <td>48.175001</td>\n",
              "      <td>8.454908e+07</td>\n",
              "      <td>46.453845</td>\n",
              "    </tr>\n",
              "    <tr>\n",
              "      <th>50%</th>\n",
              "      <td>67.508751</td>\n",
              "      <td>65.960003</td>\n",
              "      <td>66.692501</td>\n",
              "      <td>66.752502</td>\n",
              "      <td>1.093226e+08</td>\n",
              "      <td>65.504410</td>\n",
              "    </tr>\n",
              "    <tr>\n",
              "      <th>75%</th>\n",
              "      <td>125.180000</td>\n",
              "      <td>122.215000</td>\n",
              "      <td>123.752501</td>\n",
              "      <td>123.809999</td>\n",
              "      <td>1.462802e+08</td>\n",
              "      <td>122.722502</td>\n",
              "    </tr>\n",
              "    <tr>\n",
              "      <th>max</th>\n",
              "      <td>182.130005</td>\n",
              "      <td>178.529999</td>\n",
              "      <td>181.119995</td>\n",
              "      <td>180.330002</td>\n",
              "      <td>4.265100e+08</td>\n",
              "      <td>179.586868</td>\n",
              "    </tr>\n",
              "  </tbody>\n",
              "</table>\n",
              "</div>"
            ],
            "text/plain": [
              "              High          Low         Open        Close        Volume  \\\n",
              "count  1008.000000  1008.000000  1008.000000  1008.000000  1.008000e+03   \n",
              "mean     84.852535    82.984410    83.891275    83.963648  1.240944e+08   \n",
              "std      40.860557    39.942002    40.403601    40.428788  5.817994e+07   \n",
              "min      36.430000    35.500000    35.994999    35.547501  4.100000e+07   \n",
              "25%      48.598751    47.781249    48.072499    48.175001  8.454908e+07   \n",
              "50%      67.508751    65.960003    66.692501    66.752502  1.093226e+08   \n",
              "75%     125.180000   122.215000   123.752501   123.809999  1.462802e+08   \n",
              "max     182.130005   178.529999   181.119995   180.330002  4.265100e+08   \n",
              "\n",
              "         Adj Close  \n",
              "count  1008.000000  \n",
              "mean     82.617985  \n",
              "std      40.675177  \n",
              "min      34.366505  \n",
              "25%      46.453845  \n",
              "50%      65.504410  \n",
              "75%     122.722502  \n",
              "max     179.586868  "
            ]
          },
          "execution_count": 5,
          "metadata": {},
          "output_type": "execute_result"
        }
      ],
      "source": [
        "stock_market_data.describe()"
      ]
    },
    {
      "cell_type": "markdown",
      "metadata": {
        "id": "NTVLPpNfroeX"
      },
      "source": [
        "Now we know what kind of entries our data contains, what about **visualize** it? \n",
        "\n",
        "Remember, we can use `Matplotlib` to draw `line charts`, which is exactly what we want.\n",
        "\n",
        "We only care about daily `close` stock price:"
      ]
    },
    {
      "cell_type": "code",
      "execution_count": 6,
      "metadata": {
        "colab": {
          "base_uri": "https://localhost:8080/",
          "height": 400
        },
        "id": "dWjrz68KrlI_",
        "outputId": "c6d537d2-4cba-4c97-d8b5-f01f974a7b59"
      },
      "outputs": [
        {
          "data": {
            "image/png": "[encoded data removed]",
            "text/plain": [
              "<Figure size 1000x600 with 1 Axes>"
            ]
          },
          "metadata": {},
          "output_type": "display_data"
        }
      ],
      "source": [
        "# Utitlize Matplotlib to draw the line chart of our stock market data\n",
        "\n",
        "# use the following command to select \"Close\" column from the entire dataframe:\n",
        "stock_market_data['Close'].plot(figsize=(10, 6))\n",
        "\n",
        "# To make the graph clearer we would also want to specify title and the labels of its x and y axes\n",
        "plt.title(\"Apple Stock Price\", fontsize=17)\n",
        "plt.ylabel('Price', fontsize=14)\n",
        "plt.xlabel('Time', fontsize=14)\n",
        "\n",
        "# Then we will draw the dotted lines to make the graph preetier\n",
        "plt.grid(which=\"major\", color='k', linestyle='-.', linewidth=0.5)\n",
        "\n",
        "# Finally we plot the graph to make it visible\n",
        "plt.show()\n"
      ]
    },
    {
      "cell_type": "markdown",
      "metadata": {
        "id": "NDLFk5Uzt_uD"
      },
      "source": [
        "`Adj_close` is the column that we want to predict here."
      ]
    },
    {
      "cell_type": "code",
      "execution_count": 7,
      "metadata": {
        "id": "6W4W2aAlsVPu"
      },
      "outputs": [],
      "source": [
        "def create_train_test_set(dataframe_stock_market_data):\n",
        "\n",
        "  features = dataframe_stock_market_data.drop(columns=['Adj Close', 'Close'], axis=1)\n",
        "  target = dataframe_stock_market_data['Adj Close']\n",
        "\n",
        "  data_length = dataframe_stock_market_data.shape[0]\n",
        "\n",
        "  print(\"The historical stock market data's length is: \", str(data_length))\n",
        "\n",
        "  # Then we want to separate the data into three parts: training set, validation set and testing set.\n",
        "  # We use the conventional train-split ratio: 88% for training, 10% for validation and 2% for testing\n",
        "  # There's no golden standard for train-test splitting, you can use whatever ratio you want but the performance may not be optimal\n",
        "  train_split = int(data_length * 0.88)\n",
        "  print(\"The training dataset's length is: \", str(train_split))\n",
        "\n",
        "  val_split = train_split + int(data_length * 0.1)\n",
        "  print(\"The validation set's length is: \", str(int(data_length * 0.1)))\n",
        "\n",
        "  print(\"The test set's length: \", str(int(data_length * 0.02)))\n",
        "\n",
        "  # Splitting features and target into train, validation and test samples \n",
        "  X_train, X_val, X_test = features[:train_split], features[train_split:val_split], features[val_split:]\n",
        "  Y_train, Y_val, Y_test = target[:train_split], target[train_split:val_split], target[val_split:]\n",
        "\n",
        "  #print shape of samples\n",
        "  print(\"\\nThe shape of samples on x axis (time):\")\n",
        "  print(X_train.shape, X_val.shape, X_test.shape)\n",
        "  \n",
        "  print(\"\\nThe shape of samples on y axis (stock price):\")\n",
        "  print(Y_train.shape, Y_val.shape, Y_test.shape)\n",
        "    \n",
        "  return X_train, X_val, X_test, Y_train, Y_val, Y_test\n",
        "\n"
      ]
    },
    {
      "cell_type": "code",
      "execution_count": 8,
      "metadata": {
        "colab": {
          "base_uri": "https://localhost:8080/"
        },
        "id": "UTZwVvoCu_jP",
        "outputId": "6b86ff77-0dd8-4cfb-c16d-082ecafb5454"
      },
      "outputs": [
        {
          "name": "stdout",
          "output_type": "stream",
          "text": [
            "The historical stock market data's length is:  1008\n",
            "The training dataset's length is:  887\n",
            "The validation set's length is:  100\n",
            "The test set's length:  20\n",
            "\n",
            "The shape of samples on x axis (time):\n",
            "(887, 4) (100, 4) (21, 4)\n",
            "\n",
            "The shape of samples on y axis (stock price):\n",
            "(887,) (100,) (21,)\n"
          ]
        }
      ],
      "source": [
        "# Generate datasets\n",
        "X_train, X_validate, X_test, Y_train, Y_validate, Y_test = create_train_test_set(stock_market_data)"
      ]
    },
    {
      "cell_type": "markdown",
      "metadata": {
        "id": "uX_R6H7GwHPv"
      },
      "source": [
        "Now we have three small datasets:\n",
        "1. `Training set`, used to provide information (knowledge) to our model.\n",
        "2. `Validation set`, used to validate the performance of our model.\n",
        "3. `Test set`, used to do the actual prediction."
      ]
    },
    {
      "cell_type": "code",
      "execution_count": 9,
      "metadata": {
        "colab": {
          "base_uri": "https://localhost:8080/"
        },
        "id": "MNCcpOfEwHAb",
        "outputId": "a44e4dbf-4acd-4fd1-9dee-15a4edb075d1"
      },
      "outputs": [
        {
          "data": {
            "text/html": [
              "<style>#sk-container-id-1 {color: black;background-color: white;}#sk-container-id-1 pre{padding: 0;}#sk-container-id-1 div.sk-toggleable {background-color: white;}#sk-container-id-1 label.sk-toggleable__label {cursor: pointer;display: block;width: 100%;margin-bottom: 0;padding: 0.3em;box-sizing: border-box;text-align: center;}#sk-container-id-1 label.sk-toggleable__label-arrow:before {content: \"▸\";float: left;margin-right: 0.25em;color: #696969;}#sk-container-id-1 label.sk-toggleable__label-arrow:hover:before {color: black;}#sk-container-id-1 div.sk-estimator:hover label.sk-toggleable__label-arrow:before {color: black;}#sk-container-id-1 div.sk-toggleable__content {max-height: 0;max-width: 0;overflow: hidden;text-align: left;background-color: #f0f8ff;}#sk-container-id-1 div.sk-toggleable__content pre {margin: 0.2em;color: black;border-radius: 0.25em;background-color: #f0f8ff;}#sk-container-id-1 input.sk-toggleable__control:checked~div.sk-toggleable__content {max-height: 200px;max-width: 100%;overflow: auto;}#sk-container-id-1 input.sk-toggleable__control:checked~label.sk-toggleable__label-arrow:before {content: \"▾\";}#sk-container-id-1 div.sk-estimator input.sk-toggleable__control:checked~label.sk-toggleable__label {background-color: #d4ebff;}#sk-container-id-1 div.sk-label input.sk-toggleable__control:checked~label.sk-toggleable__label {background-color: #d4ebff;}#sk-container-id-1 input.sk-hidden--visually {border: 0;clip: rect(1px 1px 1px 1px);clip: rect(1px, 1px, 1px, 1px);height: 1px;margin: -1px;overflow: hidden;padding: 0;position: absolute;width: 1px;}#sk-container-id-1 div.sk-estimator {font-family: monospace;background-color: #f0f8ff;border: 1px dotted black;border-radius: 0.25em;box-sizing: border-box;margin-bottom: 0.5em;}#sk-container-id-1 div.sk-estimator:hover {background-color: #d4ebff;}#sk-container-id-1 div.sk-parallel-item::after {content: \"\";width: 100%;border-bottom: 1px solid gray;flex-grow: 1;}#sk-container-id-1 div.sk-label:hover label.sk-toggleable__label {background-color: #d4ebff;}#sk-container-id-1 div.sk-serial::before {content: \"\";position: absolute;border-left: 1px solid gray;box-sizing: border-box;top: 0;bottom: 0;left: 50%;z-index: 0;}#sk-container-id-1 div.sk-serial {display: flex;flex-direction: column;align-items: center;background-color: white;padding-right: 0.2em;padding-left: 0.2em;position: relative;}#sk-container-id-1 div.sk-item {position: relative;z-index: 1;}#sk-container-id-1 div.sk-parallel {display: flex;align-items: stretch;justify-content: center;background-color: white;position: relative;}#sk-container-id-1 div.sk-item::before, #sk-container-id-1 div.sk-parallel-item::before {content: \"\";position: absolute;border-left: 1px solid gray;box-sizing: border-box;top: 0;bottom: 0;left: 50%;z-index: -1;}#sk-container-id-1 div.sk-parallel-item {display: flex;flex-direction: column;z-index: 1;position: relative;background-color: white;}#sk-container-id-1 div.sk-parallel-item:first-child::after {align-self: flex-end;width: 50%;}#sk-container-id-1 div.sk-parallel-item:last-child::after {align-self: flex-start;width: 50%;}#sk-container-id-1 div.sk-parallel-item:only-child::after {width: 0;}#sk-container-id-1 div.sk-dashed-wrapped {border: 1px dashed gray;margin: 0 0.4em 0.5em 0.4em;box-sizing: border-box;padding-bottom: 0.4em;background-color: white;}#sk-container-id-1 div.sk-label label {font-family: monospace;font-weight: bold;display: inline-block;line-height: 1.2em;}#sk-container-id-1 div.sk-label-container {text-align: center;}#sk-container-id-1 div.sk-container {/* jupyter's `normalize.less` sets `[hidden] { display: none; }` but bootstrap.min.css set `[hidden] { display: none !important; }` so we also need the `!important` here to be able to override the default hidden behavior on the sphinx rendered scikit-learn.org. See: https://github.com/scikit-learn/scikit-learn/issues/21755 */display: inline-block !important;position: relative;}#sk-container-id-1 div.sk-text-repr-fallback {display: none;}</style><div id=\"sk-container-id-1\" class=\"sk-top-container\"><div class=\"sk-text-repr-fallback\"><pre>LinearRegression()</pre><b>In a Jupyter environment, please rerun this cell to show the HTML representation or trust the notebook. <br />On GitHub, the HTML representation is unable to render, please try loading this page with nbviewer.org.</b></div><div class=\"sk-container\" hidden><div class=\"sk-item\"><div class=\"sk-estimator sk-toggleable\"><input class=\"sk-toggleable__control sk-hidden--visually\" id=\"sk-estimator-id-1\" type=\"checkbox\" checked><label for=\"sk-estimator-id-1\" class=\"sk-toggleable__label sk-toggleable__label-arrow\">LinearRegression</label><div class=\"sk-toggleable__content\"><pre>LinearRegression()</pre></div></div></div></div></div>"
            ],
            "text/plain": [
              "LinearRegression()"
            ]
          },
          "execution_count": 9,
          "metadata": {},
          "output_type": "execute_result"
        }
      ],
      "source": [
        "from sklearn.linear_model import LinearRegression\n",
        "\n",
        "# Initialize the linear regression model\n",
        "linear_regression_model = LinearRegression()\n",
        "\n",
        "# train the model using training set\n",
        "linear_regression_model.fit(X_train, Y_train)"
      ]
    },
    {
      "cell_type": "markdown",
      "metadata": {
        "id": "XTFaokoZwkjI"
      },
      "source": [
        "Then we can take a look at the parameters trained from our training set:"
      ]
    },
    {
      "cell_type": "code",
      "execution_count": 10,
      "metadata": {
        "colab": {
          "base_uri": "https://localhost:8080/"
        },
        "id": "l1J8OCvovkyB",
        "outputId": "93886eab-b739-4c00-eafe-ac12e91f1187"
      },
      "outputs": [
        {
          "name": "stdout",
          "output_type": "stream",
          "text": [
            "Linear Regression Model's Coefficients: \n",
            " [ 9.04564015e-01  6.72584783e-01 -5.74402826e-01 -1.67482939e-09]\n",
            "Linear Regression Model's Intercept: \n",
            " -1.5736877728513718\n"
          ]
        }
      ],
      "source": [
        "print(\"Linear Regression Model's Coefficients: \\n\", linear_regression_model.coef_)\n",
        "print(\"Linear Regression Model's Intercept: \\n\", linear_regression_model.intercept_)"
      ]
    },
    {
      "cell_type": "markdown",
      "metadata": {
        "id": "AKBXHELXw4eD"
      },
      "source": [
        "Then we want to perform the model evaluation on our validation set:"
      ]
    },
    {
      "cell_type": "code",
      "execution_count": 11,
      "metadata": {
        "colab": {
          "base_uri": "https://localhost:8080/"
        },
        "id": "jgcGm9qSw0Ke",
        "outputId": "5b222c15-740f-4479-f495-70efe0990714"
      },
      "outputs": [
        {
          "name": "stdout",
          "output_type": "stream",
          "text": [
            "The Performance of our model (R^2):  0.9995718109617825\n"
          ]
        }
      ],
      "source": [
        "print(\"The Performance of our model (R^2): \", linear_regression_model.score(X_train, Y_train))"
      ]
    },
    {
      "cell_type": "code",
      "execution_count": 12,
      "metadata": {
        "id": "5E_m0AsOxAs4"
      },
      "outputs": [],
      "source": [
        "def get_mape(y_truth, y_predicted): \n",
        "    \"\"\"\n",
        "    Compute mean absolute percentage error (MAPE)\n",
        "    \"\"\"\n",
        "    y_truth, y_predicted = np.array(y_truth), np.array(y_predicted)\n",
        "    return np.mean(np.abs((y_truth - y_predicted) / y_truth)) * 100"
      ]
    },
    {
      "cell_type": "markdown",
      "metadata": {
        "id": "LwBSwfQ2xP0R"
      },
      "source": [
        "Finally we will perform the prediction for the test dataset:"
      ]
    },
    {
      "cell_type": "code",
      "execution_count": 13,
      "metadata": {
        "colab": {
          "base_uri": "https://localhost:8080/"
        },
        "id": "fB-EaoRVxOwM",
        "outputId": "1966c298-6144-4cbc-bc6a-9bead98a238c"
      },
      "outputs": [
        {
          "name": "stdout",
          "output_type": "stream",
          "text": [
            "Training R-squared:  1.0\n",
            "Training Explained Variation:  1.0\n",
            "Training MAPE: 0.74\n",
            "Training Mean Squared Error: 0.47\n",
            "Training RMSE:  0.69\n",
            "Training MAE:  0.5\n",
            " \n",
            "Validation R-squared:  0.97\n",
            "Validation Explained Variation:  0.97\n",
            "Validation MAPE: 0.44\n",
            "Validation Mean Squared Error: 0.47\n",
            "Validation RMSE:  0.87\n",
            "Validation MAE:  0.65\n",
            " \n",
            "Test R-squared:  0.94\n",
            "Test Explained Variation:  0.94\n",
            "Test MAPE: 0.63\n",
            "Test Mean Squared Error: 1.65\n",
            "Test RMSE:  1.28\n",
            "Test MAE:  1.09\n"
          ]
        }
      ],
      "source": [
        "# Get predicted data for training set, validation set and test set.\n",
        "Y_train_predicted = linear_regression_model.predict(X_train)\n",
        "Y_validate_predicted = linear_regression_model.predict(X_validate)\n",
        "Y_test_predicted = linear_regression_model.predict(X_test)\n",
        "\n",
        "# print out prediction result of these three datasets respectively\n",
        "print(\"Training R-squared: \",round(metrics.r2_score(Y_train,Y_train_predicted),2))\n",
        "print(\"Training Explained Variation: \",round(metrics.explained_variance_score(Y_train,Y_train_predicted),2))\n",
        "print('Training MAPE:', round(get_mape(Y_train,Y_train_predicted), 2)) \n",
        "print('Training Mean Squared Error:', round(metrics.mean_squared_error(Y_train,Y_train_predicted), 2)) \n",
        "print(\"Training RMSE: \",round(np.sqrt(metrics.mean_squared_error(Y_train,Y_train_predicted)),2))\n",
        "print(\"Training MAE: \",round(metrics.mean_absolute_error(Y_train,Y_train_predicted),2))\n",
        "\n",
        "print(' ')\n",
        "\n",
        "print(\"Validation R-squared: \",round(metrics.r2_score(Y_validate,Y_validate_predicted),2))\n",
        "print(\"Validation Explained Variation: \",round(metrics.explained_variance_score(Y_validate,Y_validate_predicted),2))\n",
        "print('Validation MAPE:', round(get_mape(Y_validate,Y_validate_predicted), 2)) \n",
        "print('Validation Mean Squared Error:', round(metrics.mean_squared_error(Y_train,Y_train_predicted), 2)) \n",
        "print(\"Validation RMSE: \",round(np.sqrt(metrics.mean_squared_error(Y_validate,Y_validate_predicted)),2))\n",
        "print(\"Validation MAE: \",round(metrics.mean_absolute_error(Y_validate,Y_validate_predicted),2))\n",
        "\n",
        "print(' ')\n",
        "\n",
        "print(\"Test R-squared: \",round(metrics.r2_score(Y_test,Y_test_predicted),2))\n",
        "print(\"Test Explained Variation: \",round(metrics.explained_variance_score(Y_test,Y_test_predicted),2))\n",
        "print('Test MAPE:', round(get_mape(Y_test,Y_test_predicted), 2)) \n",
        "print('Test Mean Squared Error:', round(metrics.mean_squared_error(Y_test,Y_test_predicted), 2)) \n",
        "print(\"Test RMSE: \",round(np.sqrt(metrics.mean_squared_error(Y_test,Y_test_predicted)),2))\n",
        "print(\"Test MAE: \",round(metrics.mean_absolute_error(Y_test,Y_test_predicted),2))"
      ]
    },
    {
      "cell_type": "markdown",
      "metadata": {
        "id": "5B9Opuh7x-MV"
      },
      "source": [
        "Then we will wrap up our prediction data as several `pandas dataframes`:"
      ]
    },
    {
      "cell_type": "code",
      "execution_count": 14,
      "metadata": {
        "colab": {
          "base_uri": "https://localhost:8080/",
          "height": 206
        },
        "id": "esh2kLrpx5gp",
        "outputId": "afa16ef6-37e3-4da2-9f6e-6889ebdb7029"
      },
      "outputs": [
        {
          "name": "stderr",
          "output_type": "stream",
          "text": [
            "C:\\Users\\CKitc\\AppData\\Local\\Temp\\ipykernel_4612\\880846100.py:5: FutureWarning: In a future version, `df.iloc[:, i] = newvals` will attempt to set the values inplace instead of always setting a new array. To retain the old behavior, use either `df[df.columns[i]] = newvals` or, if columns are non-unique, `df.isetitem(i, newvals)`\n",
            "  dataframe_predicted.loc[:, 'Date'] = pd.to_datetime(dataframe_predicted['Date'], format='%Y-%m-%d')\n"
          ]
        },
        {
          "data": {
            "text/html": [
              "<div>\n",
              "<style scoped>\n",
              "    .dataframe tbody tr th:only-of-type {\n",
              "        vertical-align: middle;\n",
              "    }\n",
              "\n",
              "    .dataframe tbody tr th {\n",
              "        vertical-align: top;\n",
              "    }\n",
              "\n",
              "    .dataframe thead th {\n",
              "        text-align: right;\n",
              "    }\n",
              "</style>\n",
              "<table border=\"1\" class=\"dataframe\">\n",
              "  <thead>\n",
              "    <tr style=\"text-align: right;\">\n",
              "      <th></th>\n",
              "      <th>Date</th>\n",
              "      <th>Actual</th>\n",
              "      <th>Predicted</th>\n",
              "    </tr>\n",
              "  </thead>\n",
              "  <tbody>\n",
              "    <tr>\n",
              "      <th>0</th>\n",
              "      <td>2021-07-13</td>\n",
              "      <td>144.611771</td>\n",
              "      <td>145.516577</td>\n",
              "    </tr>\n",
              "    <tr>\n",
              "      <th>1</th>\n",
              "      <td>2021-07-14</td>\n",
              "      <td>148.096985</td>\n",
              "      <td>147.767424</td>\n",
              "    </tr>\n",
              "    <tr>\n",
              "      <th>2</th>\n",
              "      <td>2021-07-15</td>\n",
              "      <td>147.431732</td>\n",
              "      <td>147.138621</td>\n",
              "    </tr>\n",
              "    <tr>\n",
              "      <th>3</th>\n",
              "      <td>2021-07-16</td>\n",
              "      <td>145.356491</td>\n",
              "      <td>146.578458</td>\n",
              "    </tr>\n",
              "    <tr>\n",
              "      <th>4</th>\n",
              "      <td>2021-07-19</td>\n",
              "      <td>141.444290</td>\n",
              "      <td>141.258153</td>\n",
              "    </tr>\n",
              "  </tbody>\n",
              "</table>\n",
              "</div>"
            ],
            "text/plain": [
              "        Date      Actual   Predicted\n",
              "0 2021-07-13  144.611771  145.516577\n",
              "1 2021-07-14  148.096985  147.767424\n",
              "2 2021-07-15  147.431732  147.138621\n",
              "3 2021-07-16  145.356491  146.578458\n",
              "4 2021-07-19  141.444290  141.258153"
            ]
          },
          "execution_count": 14,
          "metadata": {},
          "output_type": "execute_result"
        }
      ],
      "source": [
        "dataframe_predicted = pd.DataFrame(Y_validate.values, columns=['Actual'], index = Y_validate.index)\n",
        "dataframe_predicted['Predicted'] = Y_validate_predicted\n",
        "\n",
        "dataframe_predicted = dataframe_predicted.reset_index()\n",
        "dataframe_predicted.loc[:, 'Date'] = pd.to_datetime(dataframe_predicted['Date'], format='%Y-%m-%d')\n",
        "dataframe_predicted.head(5)\n"
      ]
    },
    {
      "cell_type": "markdown",
      "metadata": {
        "id": "To7vwlviyicm"
      },
      "source": [
        "Last but not least, we will plot the price we predicted together with the actual price on the same plot."
      ]
    },
    {
      "cell_type": "code",
      "execution_count": 15,
      "metadata": {
        "colab": {
          "base_uri": "https://localhost:8080/",
          "height": 283
        },
        "id": "itcx50S5ye0f",
        "outputId": "9c143d99-c0ac-4d18-fd07-af9a17b7a4ed"
      },
      "outputs": [
        {
          "data": {
            "text/plain": [
              "<AxesSubplot: >"
            ]
          },
          "execution_count": 15,
          "metadata": {},
          "output_type": "execute_result"
        },
        {
          "data": {
            "image/png": "[encoded data removed]",
            "text/plain": [
              "<Figure size 640x480 with 1 Axes>"
            ]
          },
          "metadata": {},
          "output_type": "display_data"
        }
      ],
      "source": [
        "dataframe_predicted[['Actual', 'Predicted']].plot()"
      ]
    },
    {
      "cell_type": "markdown",
      "metadata": {
        "id": "iUs2DiX2yvj3"
      },
      "source": [
        "We can see that overall the prediction looks very good comparing to the actual data!"
      ]
    },
    {
      "cell_type": "markdown",
      "metadata": {},
      "source": [
        "Now lets test the model on a different ticker symbol, using the full data for prediction"
      ]
    },
    {
      "cell_type": "code",
      "execution_count": 16,
      "metadata": {},
      "outputs": [
        {
          "name": "stderr",
          "output_type": "stream",
          "text": [
            "C:\\Users\\CKitc\\AppData\\Local\\Temp\\ipykernel_4612\\2438898437.py:15: FutureWarning: In a future version, `df.iloc[:, i] = newvals` will attempt to set the values inplace instead of always setting a new array. To retain the old behavior, use either `df[df.columns[i]] = newvals` or, if columns are non-unique, `df.isetitem(i, newvals)`\n",
            "  dataframe_predicted.loc[:, 'Date'] = pd.to_datetime(dataframe_predicted['Date'], format='%Y-%m-%d')\n"
          ]
        },
        {
          "data": {
            "text/plain": [
              "<AxesSubplot: >"
            ]
          },
          "execution_count": 16,
          "metadata": {},
          "output_type": "execute_result"
        },
        {
          "data": {
            "image/png": "[encoded data removed]",
            "text/plain": [
              "<Figure size 640x480 with 1 Axes>"
            ]
          },
          "metadata": {},
          "output_type": "display_data"
        }
      ],
      "source": [
        "# Specify Company name: Apple (AAPL), API: Yahoo (yahoo)\n",
        "stock_market_data = web.DataReader(\"TSLA\", 'yahoo', start_time, end_time)\n",
        "\n",
        "# Generate datasets\n",
        "data = stock_market_data.drop(columns=['Adj Close', 'Close'], axis=1)\n",
        "target = stock_market_data['Adj Close']\n",
        "\n",
        "# predict values\n",
        "preds = linear_regression_model.predict(data)\n",
        "\n",
        "# reformat as data frame\n",
        "dataframe_predicted = pd.DataFrame(target.values, columns=['Actual'], index = target.index)\n",
        "dataframe_predicted['Predicted'] = preds\n",
        "dataframe_predicted = dataframe_predicted.reset_index()\n",
        "dataframe_predicted.loc[:, 'Date'] = pd.to_datetime(dataframe_predicted['Date'], format='%Y-%m-%d')\n",
        "\n",
        "# plot graph\n",
        "dataframe_predicted[['Actual', 'Predicted']].plot()"
      ]
    },
    {
      "cell_type": "code",
      "execution_count": null,
      "metadata": {},
      "outputs": [],
      "source": []
    }
  ],
  "metadata": {
    "colab": {
      "collapsed_sections": [],
      "provenance": []
    },
    "kernelspec": {
      "display_name": "Python 3.10.7 ('.venv': venv)",
      "language": "python",
      "name": "python3"
    },
    "language_info": {
      "codemirror_mode": {
        "name": "ipython",
        "version": 3
      },
      "file_extension": ".py",
      "mimetype": "text/x-python",
      "name": "python",
      "nbconvert_exporter": "python",
      "pygments_lexer": "ipython3",
      "version": "3.10.7"
    },
    "vscode": {
      "interpreter": {
        "hash": "854e690f5b0af1edb6786fc70e612cf493fb5e576df32e13b64efa67351a95b9"
      }
    }
  },
  "nbformat": 4,
  "nbformat_minor": 0
}
